{
  "cells": [
    {
      "cell_type": "markdown",
      "metadata": {
        "id": "view-in-github",
        "colab_type": "text"
      },
      "source": [
        "<a href=\"https://colab.research.google.com/github/SanjanaNaalla/credit-card-fraud-detection/blob/main/Welcome_To_Colab.ipynb\" target=\"_parent\"><img src=\"https://colab.research.google.com/assets/colab-badge.svg\" alt=\"Open In Colab\"/></a>"
      ]
    },
    {
      "cell_type": "code",
      "source": [
        "# Import libraries\n",
        "import pandas as pd\n",
        "import numpy as np\n",
        "from sklearn.model_selection import train_test_split\n",
        "from sklearn.ensemble import RandomForestClassifier\n",
        "from sklearn.metrics import classification_report, confusion_matrix\n",
        "\n",
        "# Step 1: Load your dataset\n",
        "df = pd.read_csv('/creditcard.csv')  # Replace with your file name\n",
        "\n",
        "# Step 2: Simulate 'Previous_Transaction_Time' if not present\n",
        "# (Normally, you'd have timestamp data)\n",
        "df['Previous_Transaction_Time'] = df['Time'].shift(1)\n",
        "df['Time_Difference'] = df['Time'] - df['Previous_Transaction_Time']\n",
        "df['Time_Difference'].fillna(df['Time_Difference'].median(), inplace=True)\n",
        "\n",
        "# Step 3: Create the Unique Feature: Transaction Speed\n",
        "# (Inverse of time difference, faster = higher speed)\n",
        "df['Transaction_Speed'] = 1 / (df['Time_Difference'] + 1)  # +1 to avoid division by zero\n",
        "\n",
        "# Step 4: Features and Target\n",
        "feature_columns = ['Amount', 'Transaction_Speed']  # + you can add more features\n",
        "X = df[feature_columns]\n",
        "y = df['Class']  # Usually 0 = Normal, 1 = Fraud\n",
        " # Handle missing values in the target variable (y)\n",
        "# You can either drop rows with missing values or impute them.\n",
        "# Here, we'll drop rows with missing values in 'Class'.\n",
        "df.dropna(subset=['Class'], inplace=True)\n",
        "\n",
        "# Update X and y after dropping rows\n",
        "X = df[feature_columns]\n",
        "y = df['Class']\n",
        "# Step 5: Train-Test Split\n",
        "X_train, X_test, y_train, y_test = train_test_split(X, y, test_size=0.2, random_state=42)\n",
        "\n",
        "# Step 6: Train the model\n",
        "model = RandomForestClassifier(n_estimators=100, random_state=42)\n",
        "model.fit(X_train, y_train)\n",
        "\n",
        "# Step 7: Predict\n",
        "y_pred = model.predict(X_test)\n",
        "\n",
        "# Step 8: Evaluate\n",
        "print(confusion_matrix(y_test, y_pred))\n",
        "print(classification_report(y_test, y_pred))\n",
        "\n",
        "# Step 9: Predict on new transaction\n",
        "new_transaction = pd.DataFrame({\n",
        "    'Amount': [250],         # New transaction amount\n",
        "    'Transaction_Speed': [0.02]  # New transaction speed (very fast)\n",
        "})\n",
        "\n",
        "new_prediction = model.predict(new_transaction)\n",
        "print(f\"Predicted Class (0=Normal, 1=Fraud): {new_prediction[0]}\")\n"
      ],
      "metadata": {
        "id": "6M2hd-EwCjgi",
        "outputId": "ecf91a33-df0d-4705-eb93-2527201a71b4",
        "colab": {
          "base_uri": "https://localhost:8080/"
        }
      },
      "execution_count": 11,
      "outputs": [
        {
          "output_type": "stream",
          "name": "stderr",
          "text": [
            "<ipython-input-11-690f6a8d8c41>:15: FutureWarning: A value is trying to be set on a copy of a DataFrame or Series through chained assignment using an inplace method.\n",
            "The behavior will change in pandas 3.0. This inplace method will never work because the intermediate object on which we are setting values always behaves as a copy.\n",
            "\n",
            "For example, when doing 'df[col].method(value, inplace=True)', try using 'df.method({col: value}, inplace=True)' or df[col] = df[col].method(value) instead, to perform the operation inplace on the original object.\n",
            "\n",
            "\n",
            "  df['Time_Difference'].fillna(df['Time_Difference'].median(), inplace=True)\n"
          ]
        },
        {
          "output_type": "stream",
          "name": "stdout",
          "text": [
            "[[52185    18]\n",
            " [   75     4]]\n",
            "              precision    recall  f1-score   support\n",
            "\n",
            "         0.0       1.00      1.00      1.00     52203\n",
            "         1.0       0.18      0.05      0.08        79\n",
            "\n",
            "    accuracy                           1.00     52282\n",
            "   macro avg       0.59      0.53      0.54     52282\n",
            "weighted avg       1.00      1.00      1.00     52282\n",
            "\n",
            "Predicted Class (0=Normal, 1=Fraud): 0.0\n"
          ]
        }
      ]
    }
  ],
  "metadata": {
    "colab": {
      "name": "Welcome To Colab",
      "provenance": [],
      "include_colab_link": true
    },
    "kernelspec": {
      "display_name": "Python 3",
      "name": "python3"
    }
  },
  "nbformat": 4,
  "nbformat_minor": 0
}